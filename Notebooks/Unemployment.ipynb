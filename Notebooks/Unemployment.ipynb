{
 "cells": [
  {
   "cell_type": "code",
   "execution_count": 1,
   "metadata": {},
   "outputs": [],
   "source": [
    "import pandas as pd\n",
    "import numpy as np\n",
    "import requests\n",
    "import json\n",
    "import prettytable\n",
    "from tabulate import tabulate\n",
    "from datetime import date, time, datetime"
   ]
  },
  {
   "cell_type": "code",
   "execution_count": 2,
   "metadata": {},
   "outputs": [],
   "source": [
    "bls_series = {\"NYC\": \n",
    "                   {\"seriesID\": [\"LAUCN360610000000003\", \"LAUCN360470000000003\", \"LAUCN360050000000003\", \"LAUCN360850000000003\", \"LAUCN360810000000003\"], \n",
    "                    \"counties\": [\"New York\", \"Kings\", \"Bronx\", \"Richmond\", \"Queens\"]}, \n",
    "               \"LosAngeles\": \n",
    "                   {\"seriesID\": [\"LAUCN060370000000003\"], \n",
    "                    \"counties\": [\"Los Angeles\"]}, \n",
    "               \"Chicago\": \n",
    "                   {\"seriesID\": [\"LAUCN170310000000003\"], \n",
    "                    \"counties\": [\"Cook\"]},\n",
    "               \"Houston\": \n",
    "                   {\"seriesID\": [\"LAUCN482010000000003\"], \n",
    "                    \"counties\": [\"Harris\"]},\n",
    "               \"Phoenix\": \n",
    "                   {\"seriesID\": [\"LAUCN040130000000003\"], \n",
    "                    \"counties\": [\"Maricopa\"]},\n",
    "              }"
   ]
  },
  {
   "cell_type": "code",
   "execution_count": 3,
   "metadata": {},
   "outputs": [],
   "source": [
    "def get_uem(series_dict):\n",
    "    df_data = pd.DataFrame()\n",
    "    for key in series_dict.keys():    \n",
    "        headers = {'Content-type': 'application/json'}\n",
    "        data = json.dumps({\"seriesid\": series_dict[key]['seriesID'],\"startyear\":\"2019\", \"endyear\":\"2020\", \"registrationkey\": \"c4f77fe780da448b8591b1c9bc154f26\"})\n",
    "        p = requests.post('https://api.bls.gov/publicAPI/v2/timeseries/data/', data=data, headers=headers)\n",
    "        json_data = json.loads(p.text)\n",
    "\n",
    "        for series, county in zip(json_data['Results']['series'], series_dict[key]['counties']):\n",
    "            df = pd.DataFrame(series['data']).drop(columns={'footnotes', 'periodName'})\n",
    "            df['period'] = (df['year']+df['period']).replace({'M':'-'}, regex=True)\n",
    "            df['period'] = pd.to_datetime(df['period']).dt.strftime('%Y-%m')\n",
    "            df = df.drop('year', axis=1).iloc[::-1].rename(columns={'value': county})\n",
    "            if df_data.empty: df_data = pd.concat([df_data, df])\n",
    "            else: df_data = df_data.merge(df, on='period')\n",
    "    return df_data"
   ]
  },
  {
   "cell_type": "code",
   "execution_count": 4,
   "metadata": {},
   "outputs": [
    {
     "name": "stdout",
     "output_type": "stream",
     "text": [
      "+----+----------+------------+---------+---------+------------+----------+---------------+--------+----------+------------+\n",
      "|    | period   |   New York |   Kings |   Bronx |   Richmond |   Queens |   Los Angeles |   Cook |   Harris |   Maricopa |\n",
      "|----+----------+------------+---------+---------+------------+----------+---------------+--------+----------+------------|\n",
      "|  0 | 2019-01  |        4.3 |     4.9 |     6.5 |        4.7 |      4.2 |           5   |    5   |      4.5 |        4.7 |\n",
      "|  1 | 2019-02  |        3.9 |     4.6 |     6   |        4.3 |      3.9 |           4.6 |    4.5 |      4.1 |        4.3 |\n",
      "|  2 | 2019-03  |        3.6 |     4.2 |     5.5 |        4   |      3.6 |           4.5 |    4.3 |      3.8 |        4.3 |\n",
      "|  3 | 2019-04  |        3.2 |     3.7 |     4.9 |        3.5 |      3.2 |           4.1 |    4   |      3.4 |        4   |\n",
      "|  4 | 2019-05  |        3.4 |     3.9 |     5   |        3.6 |      3.3 |           4.1 |    3.7 |      3.4 |        4.1 |\n",
      "|  5 | 2019-06  |        3.4 |     4   |     5.1 |        3.7 |      3.4 |           4.6 |    4.4 |      4.1 |        4.5 |\n",
      "|  6 | 2019-07  |        3.6 |     4.3 |     5.7 |        4.2 |      3.6 |           5.1 |    4.3 |      4.1 |        4.5 |\n",
      "|  7 | 2019-08  |        3.5 |     4.2 |     5.6 |        4.1 |      3.5 |           5   |    4   |      4.1 |        4.4 |\n",
      "|  8 | 2019-09  |        3.1 |     3.6 |     4.8 |        3.4 |      3.1 |           4.5 |    3.5 |      3.7 |        3.9 |\n",
      "|  9 | 2019-10  |        3.3 |     3.8 |     5.1 |        3.6 |      3.3 |           4.5 |    3.5 |      3.6 |        3.9 |\n",
      "| 10 | 2019-11  |        3   |     3.5 |     4.7 |        3.2 |      3   |           4.4 |    3.2 |      3.7 |        3.8 |\n",
      "| 11 | 2019-12  |        2.7 |     3.1 |     4.2 |        2.9 |      2.6 |           4.3 |    3.2 |      3.6 |        3.8 |\n",
      "| 12 | 2020-01  |        3.4 |     3.9 |     5.3 |        3.7 |      3.4 |           4.9 |    3.8 |      4.1 |        4.2 |\n",
      "| 13 | 2020-02  |        3.3 |     3.9 |     5.1 |        3.6 |      3.3 |           4.7 |    3.8 |      3.9 |        4   |\n",
      "| 14 | 2020-03  |        3.7 |     4.3 |     5.7 |        3.9 |      3.7 |           5.6 |    4.1 |      5.6 |        4.5 |\n",
      "| 15 | 2020-04  |       11.5 |    15.7 |    18.5 |       14.5 |     17   |          18.2 |   17.1 |     14.5 |       13.5 |\n",
      "| 16 | 2020-05  |       15.2 |    20.4 |    24.6 |       18.2 |     21.8 |          18.8 |   16.8 |     13.5 |       10.1 |\n",
      "| 17 | 2020-06  |       14.4 |    18.9 |    23.1 |       16.3 |     19.7 |          17.9 |   16.8 |     12.1 |       10.3 |\n",
      "| 18 | 2020-07  |       14.8 |    19.3 |    23.8 |       16   |     19.2 |          18.2 |   14.4 |     11.6 |       10.3 |\n",
      "| 19 | 2020-08  |       11.6 |    15.2 |    19.6 |       12.5 |     14.9 |          17.5 |   14.2 |      8.5 |        6.7 |\n",
      "| 20 | 2020-09  |       11.4 |    14.9 |    19.8 |       12.1 |     14.6 |          13.2 |   13.5 |      9.8 |        6.6 |\n",
      "| 21 | 2020-10  |        9.1 |    11.9 |    15.8 |        9.6 |     11.7 |          12   |    9.7 |      8.2 |        6.1 |\n",
      "| 22 | 2020-11  |        9.1 |    11.9 |    15.9 |        9.7 |     11.5 |          11.9 |    9.7 |      8   |        6.1 |\n",
      "| 23 | 2020-12  |        9.1 |    11.9 |    15.9 |        9.9 |     11.3 |          12.3 |    9.4 |      7.7 |        6.4 |\n",
      "+----+----------+------------+---------+---------+------------+----------+---------------+--------+----------+------------+\n"
     ]
    }
   ],
   "source": [
    "df_uem = get_uem(bls_series)\n",
    "print(tabulate(df_uem, headers='keys', tablefmt='psql'))"
   ]
  },
  {
   "cell_type": "code",
   "execution_count": 5,
   "metadata": {},
   "outputs": [],
   "source": [
    "df_uem.to_csv('../datasets/unemployment-2019-2021.csv')"
   ]
  }
 ],
 "metadata": {
  "kernelspec": {
   "display_name": "PyCharm (Tutorials)",
   "language": "python",
   "name": "pycharm-38c7cf03"
  },
  "language_info": {
   "codemirror_mode": {
    "name": "ipython",
    "version": 3
   },
   "file_extension": ".py",
   "mimetype": "text/x-python",
   "name": "python",
   "nbconvert_exporter": "python",
   "pygments_lexer": "ipython3",
   "version": "3.6.8"
  }
 },
 "nbformat": 4,
 "nbformat_minor": 4
}
