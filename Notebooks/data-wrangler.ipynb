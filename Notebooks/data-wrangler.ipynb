{
 "cells": [
  {
   "cell_type": "code",
   "execution_count": 1,
   "metadata": {},
   "outputs": [],
   "source": [
    "import pandas as pd\n",
    "import numpy as np\n",
    "import json\n",
    "from ast import literal_eval\n",
    "import matplotlib.pyplot as plt\n",
    "from datetime import datetime\n",
    "import collections, functools, operator\n",
    "import re"
   ]
  },
  {
   "cell_type": "markdown",
   "metadata": {},
   "source": [
    "### The cell below load the Safegraph data and parse them\n",
    "\n",
    "- Now itliteral_eval up for NYC (Bronx, Kings, New York, Queens, Richmond counties)\n",
    "- The three datasets are for 2020/04, 2019/04 and 2020/10\n",
    "- The files are exported to *csv.tar.gz in the datasets directory\n",
    "- DO NOT run the following cell if you do not want to reparse the data\n",
    "- For futher data explorations just use the *csv.tar.gz in the datasets directory"
   ]
  },
  {
   "cell_type": "code",
   "execution_count": 2,
   "metadata": {},
   "outputs": [],
   "source": [
    "def parseData(year, month, state, counties, city):\n",
    "    # For SafeGraph PlaceID to county conversion\n",
    "    df_CBG = pd.read_csv('../datasets/placeToCBGMay/placeCountyCBG.csv')\n",
    "    \n",
    "    df_1 = pd.read_csv('../datasets/Places_Patterns/'+year+'/'+month+'/patterns-part1.csv.gz', compression='gzip')\n",
    "    df_2 = pd.read_csv('../datasets/Places_Patterns/'+year+'/'+month+'/patterns-part2.csv.gz', compression='gzip')\n",
    "    df_3 = pd.read_csv('../datasets/Places_Patterns/'+year+'/'+month+'/patterns-part3.csv.gz', compression='gzip')\n",
    "    df_4 = pd.read_csv('../datasets/Places_Patterns/'+year+'/'+month+'/patterns-part4.csv.gz', compression='gzip')\n",
    "    df_T = pd.concat([df_1, df_2, df_3, df_4])\n",
    "\n",
    "    df_TC = pd.merge(df_CBG[df_CBG['state']==state], df_T[df_T['region']==state], on='safegraph_place_id')\n",
    "    df_TC['countyName'] = df_TC['countyName'].apply(lambda x: x[:-7])\n",
    "\n",
    "    df_F = df_TC[df_TC['countyName'].isin(counties)]\n",
    "    df_F.drop(columns=['countyFIPS', 'stateFIPS', 'CBGFIPS', 'region', 'safegraph_brand_ids'], inplace=True)\n",
    "    df_F.reset_index(drop=True, inplace=True)\n",
    "    df_F.to_csv('../datasets/'+city+'/'+city+'_'+year+'_'+month+'.csv.tar.gz', index=False, compression='gzip')\n",
    "    \n",
    "    return df_F\n",
    "\n",
    "def parseCore(year, month, state, counties, city):\n",
    "    # For SafeGraph PlaceID to county conversion\n",
    "    df_CBG = pd.read_csv('../datasets/placeToCBGMay/placeCountyCBG.csv')\n",
    "    \n",
    "    df_1 = pd.read_csv('../datasets/Core/'+year+'/'+month+'/core_poi-part1.csv.gz', compression='gzip')\n",
    "    df_2 = pd.read_csv('../datasets/Core/'+year+'/'+month+'/core_poi-part2.csv.gz', compression='gzip')\n",
    "    df_3 = pd.read_csv('../datasets/Core/'+year+'/'+month+'/core_poi-part3.csv.gz', compression='gzip')\n",
    "    df_4 = pd.read_csv('../datasets/Core/'+year+'/'+month+'/core_poi-part4.csv.gz', compression='gzip')\n",
    "    df_5 = pd.read_csv('../datasets/Core/'+year+'/'+month+'/core_poi-part5.csv.gz', compression='gzip')\n",
    "    df_T = pd.concat([df_1, df_2, df_3, df_4, df_5])\n",
    "\n",
    "    df_TC = pd.merge(df_CBG[df_CBG['state']==state], df_T[df_T['region']==state], on='safegraph_place_id')\n",
    "    df_TC['countyName'] = df_TC['countyName'].apply(lambda x: x[:-7])\n",
    "\n",
    "    df_F = df_TC[df_TC['countyName'].isin(counties)]\n",
    "    df_F.drop(columns=['countyFIPS', 'stateFIPS', 'CBGFIPS', 'phone_number', 'iso_country_code', 'region', 'safegraph_brand_ids'], inplace=True)\n",
    "    df_F.reset_index(drop=True, inplace=True)\n",
    "    df_F.to_csv('../datasets/'+city+'/Core-'+city+'_'+year+'_'+month+'.csv.tar.gz', index=False, compression='gzip')\n",
    "    return df_F\n",
    "\n",
    " \n",
    "def getCity(state, counties, city):\n",
    "    df_dict = {}\n",
    "    for year in ['2019', '2020']:\n",
    "        for month in ['01', '02', '03', '04', '05', '06', '07', '08', '09', '10', '11', '12']:\n",
    "            df_dict[year+'_'+month] = parseData(year, month, state, counties, city)\n",
    "    \n",
    "    for year in ['2021']:\n",
    "        for month in ['01', '02', '03', '04']:\n",
    "            df_dict[year+'_'+month] = parseData(year, month, state, counties, city)\n",
    "\n",
    "    dfC = parseCore('2020', '04', state, counties, city)\n",
    "    return df_dict, dfC"
   ]
  },
  {
   "cell_type": "markdown",
   "metadata": {},
   "source": [
    "## New York"
   ]
  },
  {
   "cell_type": "code",
   "execution_count": 56,
   "metadata": {},
   "outputs": [],
   "source": [
    "parsedata = True\n",
    "if parsedata:\n",
    "    getCity('NY', ['Bronx', 'Kings', 'New York', 'Queens', 'Richmond'], 'NYC')"
   ]
  },
  {
   "cell_type": "markdown",
   "metadata": {},
   "source": [
    "## Seattle"
   ]
  },
  {
   "cell_type": "code",
   "execution_count": 57,
   "metadata": {},
   "outputs": [],
   "source": [
    "parsedata = True\n",
    "if parsedata:\n",
    "    df_dict_Seattle, dfC_Seattle = getCity('WA', ['King', 'Snohomish', 'Pierce'], 'SeattleMetro')"
   ]
  },
  {
   "cell_type": "markdown",
   "metadata": {},
   "source": [
    "## Boston"
   ]
  },
  {
   "cell_type": "code",
   "execution_count": 58,
   "metadata": {},
   "outputs": [],
   "source": [
    "parsedata = True\n",
    "if parsedata:\n",
    "    df_dict_Boston, dfC_Boston = getCity('MA', ['Suffolk', 'Middlesex'], 'Boston')"
   ]
  },
  {
   "cell_type": "markdown",
   "metadata": {},
   "source": [
    "## Los Angeles"
   ]
  },
  {
   "cell_type": "code",
   "execution_count": 4,
   "metadata": {},
   "outputs": [],
   "source": [
    "parsedata = True\n",
    "if parsedata:\n",
    "    df_dict_LA, dfC_LA = getCity('CA', ['Los Angeles'], 'LosAngeles')"
   ]
  },
  {
   "cell_type": "markdown",
   "metadata": {},
   "source": [
    "## Chicago"
   ]
  },
  {
   "cell_type": "code",
   "execution_count": 5,
   "metadata": {},
   "outputs": [],
   "source": [
    "parsedata = True\n",
    "if parsedata:\n",
    "    df_dict_Chicago, dfC_Chicago = getCity('IL', ['Cook'], 'Chicago')"
   ]
  },
  {
   "cell_type": "markdown",
   "metadata": {},
   "source": [
    "## Houston"
   ]
  },
  {
   "cell_type": "code",
   "execution_count": 6,
   "metadata": {},
   "outputs": [],
   "source": [
    "parsedata = True\n",
    "if parsedata:\n",
    "    df_dict_Houston, dfC_Houston = getCity('TX', ['Harris'], 'Houston')"
   ]
  },
  {
   "cell_type": "markdown",
   "metadata": {},
   "source": [
    "## Phoenix"
   ]
  },
  {
   "cell_type": "code",
   "execution_count": 7,
   "metadata": {},
   "outputs": [],
   "source": [
    "parsedata = True\n",
    "if parsedata:\n",
    "    df_dict_Phoe, dfC_Phoenix = getCity('AZ', ['Maricopa'], 'Phoenix')"
   ]
  }
 ],
 "metadata": {
  "kernelspec": {
   "display_name": "PyCharm (Tutorials)",
   "language": "python",
   "name": "pycharm-38c7cf03"
  },
  "language_info": {
   "codemirror_mode": {
    "name": "ipython",
    "version": 3
   },
   "file_extension": ".py",
   "mimetype": "text/x-python",
   "name": "python",
   "nbconvert_exporter": "python",
   "pygments_lexer": "ipython3",
   "version": "3.6.8"
  }
 },
 "nbformat": 4,
 "nbformat_minor": 4
}
