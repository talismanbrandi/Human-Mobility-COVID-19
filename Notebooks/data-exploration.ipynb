{
 "cells": [
  {
   "cell_type": "code",
   "execution_count": 1,
   "metadata": {},
   "outputs": [],
   "source": [
    "import pandas as pd\n",
    "import numpy as np\n",
    "\n",
    "# For SafeGraph PlaceID to county conversion\n",
    "df_CBG = pd.read_csv('../datasets/placeToCBGMay/placeCountyCBG.csv')"
   ]
  },
  {
   "cell_type": "markdown",
   "metadata": {},
   "source": [
    "### The cell below load the Safegraph data and parse them\n",
    "\n",
    "- Now it is set up for NYC (Bronx, Kings, New York, Queens, Richmond counties)\n",
    "- The three datasets are for 2020/04, 2019/04 and 2020/10\n",
    "- The files are exported to *csv.tar.gz in the datasets directory\n",
    "- DO NOT run the following cell if you do not want to reparse the data\n",
    "- For futher data explorations just use the *csv.tar.gz in the datasets directory"
   ]
  },
  {
   "cell_type": "code",
   "execution_count": 3,
   "metadata": {},
   "outputs": [],
   "source": [
    "def parseData(year, month, state, counties, city):\n",
    "    df_1 = pd.read_csv('../datasets/'+year+'/'+month+'/patterns-part1.csv.gz', compression='gzip')\n",
    "    df_2 = pd.read_csv('../datasets/'+year+'/'+month+'/patterns-part2.csv.gz', compression='gzip')\n",
    "    df_3 = pd.read_csv('../datasets/'+year+'/'+month+'/patterns-part3.csv.gz', compression='gzip')\n",
    "    df_4 = pd.read_csv('../datasets/'+year+'/'+month+'/patterns-part4.csv.gz', compression='gzip')\n",
    "    df_T = pd.concat([df_1, df_2, df_3, df_4])\n",
    "\n",
    "    df_TC = pd.merge(df_CBG[df_CBG['state']==state], df_T[df_T['region']==state], on='safegraph_place_id')\n",
    "    df_TC['countyName'] = df_TC['countyName'].apply(lambda x: x[:-7])\n",
    "\n",
    "    df_F = df_TC[df_TC['countyName'].isin(counties)]\n",
    "    df_F.drop(columns=['countyFIPS', 'stateFIPS', 'CBGFIPS', 'region', 'safegraph_brand_ids'], inplace=True)\n",
    "    df_F.reset_index(drop=True, inplace=True).to_csv('../datasets/'+city+'_'+year+'_'+month+'.csv.tar.gz', index=False, compression='gzip')\n",
    "    \n",
    "    return df_F\n",
    "    \n",
    "parseData('2019', '04', 'NY', ['Bronx', 'Kings', 'New York', 'Queens', 'Richmond'], 'NYC')\n",
    "parseData('2019', '10', 'NY', ['Bronx', 'Kings', 'New York', 'Queens', 'Richmond'], 'NYC')\n",
    "parseData('2020', '04', 'NY', ['Bronx', 'Kings', 'New York', 'Queens', 'Richmond'], 'NYC')"
   ]
  },
  {
   "cell_type": "markdown",
   "metadata": {},
   "source": [
    "### Load the data"
   ]
  },
  {
   "cell_type": "code",
   "execution_count": 5,
   "metadata": {},
   "outputs": [],
   "source": [
    "df = pd.read_csv('../datasets/NYC_2019_04.csv.tar.gz', compression='gzip')"
   ]
  }
 ],
 "metadata": {
  "kernelspec": {
   "display_name": "PyCharm (Tutorials)",
   "language": "python",
   "name": "pycharm-38c7cf03"
  },
  "language_info": {
   "codemirror_mode": {
    "name": "ipython",
    "version": 3
   },
   "file_extension": ".py",
   "mimetype": "text/x-python",
   "name": "python",
   "nbconvert_exporter": "python",
   "pygments_lexer": "ipython3",
   "version": "3.6.8"
  }
 },
 "nbformat": 4,
 "nbformat_minor": 4
}
